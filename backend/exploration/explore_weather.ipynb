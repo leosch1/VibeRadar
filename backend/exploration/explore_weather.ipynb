{
 "cells": [
  {
   "cell_type": "code",
   "execution_count": 1,
   "id": "6be85467",
   "metadata": {},
   "outputs": [],
   "source": [
    "import openmeteo_requests\n",
    "# Setup the Open-Meteo API client with cache and retry on error\n",
    "openmeteo = openmeteo_requests.Client()"
   ]
  },
  {
   "cell_type": "code",
   "execution_count": 2,
   "id": "0e44fe4a",
   "metadata": {},
   "outputs": [
    {
     "name": "stdout",
     "output_type": "stream",
     "text": [
      "Coordinates 28.0°N 86.875°E\n",
      "Elevation 8724.0 m asl\n",
      "Timezone b'Asia/Shanghai'b'GMT+8'\n",
      "Timezone difference to GMT + 28800 s\n",
      "Current time 1744446600\n",
      "Current temperature_2m -25.700000762939453\n",
      "Current weather_code 3.0\n"
     ]
    }
   ],
   "source": [
    "# Make sure all required weather variables are listed here\n",
    "# The order of variables in hourly or daily is important to assign them correctly below\n",
    "url = \"https://api.open-meteo.com/v1/forecast\"\n",
    "params = {\n",
    "\t\"latitude\": 27.98823,\n",
    "\t\"longitude\": 86.92501,\n",
    "\t\"current\": [\"temperature_2m\", \"weather_code\"],\n",
    "\t\"timezone\": \"auto\",\n",
    "\t\"past_days\": 0,\n",
    "\t\"forecast_days\": 1\n",
    "}\n",
    "responses = openmeteo.weather_api(url, params=params)\n",
    "\n",
    "\n",
    "response = responses[0]\n",
    "print(f\"Coordinates {response.Latitude()}°N {response.Longitude()}°E\")\n",
    "print(f\"Elevation {response.Elevation()} m asl\")\n",
    "print(f\"Timezone {response.Timezone()}{response.TimezoneAbbreviation()}\")\n",
    "print(f\"Timezone difference to GMT + {response.UtcOffsetSeconds()} s\")\n",
    "\n",
    "# Current values. The order of variables needs to be the same as requested.\n",
    "current = response.Current()\n",
    "current_temperature_2m = current.Variables(0).Value()\n",
    "current_weather_code = current.Variables(1).Value()\n",
    "\n",
    "print(f\"Current time {current.Time()}\")\n",
    "print(f\"Current temperature_2m {current_temperature_2m}\")\n",
    "print(f\"Current weather_code {current_weather_code}\")"
   ]
  }
 ],
 "metadata": {
  "kernelspec": {
   "display_name": ".venv",
   "language": "python",
   "name": "python3"
  },
  "language_info": {
   "codemirror_mode": {
    "name": "ipython",
    "version": 3
   },
   "file_extension": ".py",
   "mimetype": "text/x-python",
   "name": "python",
   "nbconvert_exporter": "python",
   "pygments_lexer": "ipython3",
   "version": "3.12.6"
  }
 },
 "nbformat": 4,
 "nbformat_minor": 5
}
