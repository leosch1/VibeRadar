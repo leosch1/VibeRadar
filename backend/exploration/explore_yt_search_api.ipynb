{
 "cells": [
  {
   "cell_type": "code",
   "execution_count": 1,
   "id": "e0166132",
   "metadata": {},
   "outputs": [],
   "source": [
    "from youtubesearchpython import *"
   ]
  },
  {
   "cell_type": "code",
   "execution_count": 2,
   "id": "72506dc6",
   "metadata": {},
   "outputs": [],
   "source": [
    "import timeit\n",
    "from youtubesearchpython import VideosSearch\n",
    "\n",
    "n = 10\n",
    "\n",
    "# Define the code to be timed as a function\n",
    "def run_search():\n",
    "    videosSearch = VideosSearch('lucern switzerland virtual city tour', limit=1)\n",
    "    result = videosSearch.result()\n",
    "    return result\n",
    "\n",
    "\n"
   ]
  },
  {
   "cell_type": "code",
   "execution_count": 3,
   "id": "c45efba7",
   "metadata": {},
   "outputs": [
    {
     "data": {
      "text/plain": [
       "[{'type': 'video',\n",
       "  'id': '3nYnfYJAkao',\n",
       "  'title': 'The Most Beautiful City in Switzerland? 🇨🇭Lucerne | Walking Tour with Stunning Views',\n",
       "  'publishedTime': '1 month ago',\n",
       "  'duration': '1:51:35',\n",
       "  'viewCount': {'text': '175,422 views', 'short': '175K views'},\n",
       "  'thumbnails': [{'url': 'https://i.ytimg.com/vi/3nYnfYJAkao/hq720.jpg?sqp=-oaymwEcCOgCEMoBSFXyq4qpAw4IARUAAIhCGAFwAcABBg==&rs=AOn4CLC2AspZsHEDwUGpT10RseL6QejQrQ',\n",
       "    'width': 360,\n",
       "    'height': 202},\n",
       "   {'url': 'https://i.ytimg.com/vi/3nYnfYJAkao/hq720.jpg?sqp=-oaymwEcCNAFEJQDSFXyq4qpAw4IARUAAIhCGAFwAcABBg==&rs=AOn4CLDMGvJowp7hFdXbHxu20rH4sGd1pQ',\n",
       "    'width': 720,\n",
       "    'height': 404}],\n",
       "  'richThumbnail': {'url': 'https://i.ytimg.com/an_webp/3nYnfYJAkao/mqdefault_6s.webp?du=3000&sqp=CPSvzcEG&rs=AOn4CLAqYQcgwDz2nehAQitxJw5Ck_bjsQ',\n",
       "   'width': 320,\n",
       "   'height': 180},\n",
       "  'descriptionSnippet': [{'text': 'Join us for a peaceful '},\n",
       "   {'text': 'walking tour', 'bold': True},\n",
       "   {'text': ' through '},\n",
       "   {'text': 'Lucerne', 'bold': True},\n",
       "   {'text': ', one of the most charming and picturesque '},\n",
       "   {'text': 'cities', 'bold': True},\n",
       "   {'text': ' in the heart of '},\n",
       "   {'text': 'Switzerland', 'bold': True},\n",
       "   {'text': '.'}],\n",
       "  'channel': {'name': 'European Walking Tours',\n",
       "   'id': 'UCOlx478DxwYAwkLnz9ELNIQ',\n",
       "   'thumbnails': [{'url': 'https://yt3.ggpht.com/WV3P2W8CP8pG941J-jjQZ45XOQpFGRstBsjOSvoBnwU_jtj1IvDWBKhLflCrFFHWSeoq5gk3=s68-c-k-c0x00ffffff-no-rj',\n",
       "     'width': 68,\n",
       "     'height': 68}],\n",
       "   'link': 'https://www.youtube.com/channel/UCOlx478DxwYAwkLnz9ELNIQ'},\n",
       "  'accessibility': {'title': 'The Most Beautiful City in Switzerland? 🇨🇭Lucerne | Walking Tour with Stunning Views 1 hour, 51 minutes',\n",
       "   'duration': '1 hour, 51 minutes, 35 seconds'},\n",
       "  'link': 'https://www.youtube.com/watch?v=3nYnfYJAkao',\n",
       "  'shelfTitle': None}]"
      ]
     },
     "execution_count": 3,
     "metadata": {},
     "output_type": "execute_result"
    }
   ],
   "source": [
    "run_search()['result']"
   ]
  },
  {
   "cell_type": "code",
   "execution_count": null,
   "id": "0a6e11b6",
   "metadata": {},
   "outputs": [
    {
     "name": "stdout",
     "output_type": "stream",
     "text": [
      "Average time per execution: 0.7943 seconds\n"
     ]
    },
    {
     "ename": "",
     "evalue": "",
     "output_type": "error",
     "traceback": [
      "\u001b[1;31mThe Kernel crashed while executing code in the current cell or a previous cell. \n",
      "\u001b[1;31mPlease review the code in the cell(s) to identify a possible cause of the failure. \n",
      "\u001b[1;31mClick <a href='https://aka.ms/vscodeJupyterKernelCrash'>here</a> for more info. \n",
      "\u001b[1;31mView Jupyter <a href='command:jupyter.viewOutput'>log</a> for further details."
     ]
    }
   ],
   "source": [
    "# Time the execution\n",
    "execution_time = timeit.timeit(run_search, number=n)\n",
    "time_per_execution = execution_time / n\n",
    "print(f\"Average time per execution: {time_per_execution:.4f} seconds\")"
   ]
  }
 ],
 "metadata": {
  "kernelspec": {
   "display_name": ".venv",
   "language": "python",
   "name": "python3"
  },
  "language_info": {
   "codemirror_mode": {
    "name": "ipython",
    "version": 3
   },
   "file_extension": ".py",
   "mimetype": "text/x-python",
   "name": "python",
   "nbconvert_exporter": "python",
   "pygments_lexer": "ipython3",
   "version": "3.12.6"
  }
 },
 "nbformat": 4,
 "nbformat_minor": 5
}
